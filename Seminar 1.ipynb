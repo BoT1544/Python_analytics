{
 "cells": [
  {
   "attachments": {},
   "cell_type": "markdown",
   "metadata": {},
   "source": [
    "- Номер задачи - заголовок 2\n",
    "- Номер подзадачи - заголовок 3\n",
    "    \n",
    "```\n",
    "code\n",
    "```\n"
   ]
  },
  {
   "attachments": {},
   "cell_type": "markdown",
   "metadata": {},
   "source": [
    "## Задача 1\n"
   ]
  },
  {
   "attachments": {},
   "cell_type": "markdown",
   "metadata": {},
   "source": [
    "### 1.1 Соедините два словаря в один\n",
    "```\n",
    "dict1 = {'One': 1, 'Two': 2, 'Three': 3}\n",
    "dict2 = {'Four': 4, 'Five': 5, 'Six': 6}\n",
    "```"
   ]
  },
  {
   "cell_type": "code",
   "execution_count": 185,
   "metadata": {},
   "outputs": [],
   "source": [
    "dict1 = {'One': 1, 'Two': 2, 'Three': 3}\n",
    "dict2 = {'Four': 4, 'Five': 5, 'Six': 6}"
   ]
  },
  {
   "cell_type": "code",
   "execution_count": 186,
   "metadata": {},
   "outputs": [
    {
     "data": {
      "text/plain": [
       "{'One': 1, 'Two': 2, 'Three': 3, 'Four': 4, 'Five': 5, 'Six': 6}"
      ]
     },
     "execution_count": 186,
     "metadata": {},
     "output_type": "execute_result"
    }
   ],
   "source": [
    "dict1.update(dict2)\n",
    "\n",
    "dict1"
   ]
  },
  {
   "attachments": {},
   "cell_type": "markdown",
   "metadata": {},
   "source": [
    "### 1.2 Напишите функцию, которая на вход принимает два словаря и возвращает один объединенный словарь\n",
    "Используйте аннотирование типов"
   ]
  },
  {
   "cell_type": "code",
   "execution_count": 187,
   "metadata": {},
   "outputs": [
    {
     "data": {
      "text/plain": [
       "{'One': 1, 'Two': 2, 'Three': 3, 'Four': 4, 'Five': 5, 'Six': 6}"
      ]
     },
     "execution_count": 187,
     "metadata": {},
     "output_type": "execute_result"
    }
   ],
   "source": [
    "def merge_dict(dict1: dict, dict2: dict) -> dict:\n",
    "    dict1.update(dict2)\n",
    "    return dict1\n",
    "merge_dict(dict1, dict2)"
   ]
  },
  {
   "attachments": {},
   "cell_type": "markdown",
   "metadata": {},
   "source": [
    "## 2 задача\n",
    "Напишите функцию, которая из двух списков, делает один словарь, где элементы из первого списка - ключи, а элементы из второго списка - значения\n",
    "Используйте аннотирование типов\n",
    "```\n",
    "keys = ['One', 'Two', 'Three']\n",
    "values = [1, 2, 3]\n",
    "```"
   ]
  },
  {
   "cell_type": "code",
   "execution_count": 188,
   "metadata": {},
   "outputs": [],
   "source": [
    "keys = ['One', 'Two', 'Three']\n",
    "values = [1, 2, 3]"
   ]
  },
  {
   "attachments": {},
   "cell_type": "markdown",
   "metadata": {},
   "source": [
    "### 2.1 Используя цикл for"
   ]
  },
  {
   "cell_type": "code",
   "execution_count": 189,
   "metadata": {},
   "outputs": [
    {
     "data": {
      "text/plain": [
       "{'One': 1, 'Two': 2, 'Three': 3}"
      ]
     },
     "execution_count": 189,
     "metadata": {},
     "output_type": "execute_result"
    }
   ],
   "source": [
    "def get_dict(keys: list, values: list) -> dict:\n",
    "    res_dict = {}\n",
    "\n",
    "    for i in range(len(keys)):\n",
    "        res_dict.update({keys[i]: values[i]})\n",
    "    return res_dict\n",
    "\n",
    "get_dict(keys, values)"
   ]
  },
  {
   "attachments": {},
   "cell_type": "markdown",
   "metadata": {},
   "source": [
    "### 2.2 Используя dict comprehensions"
   ]
  },
  {
   "cell_type": "code",
   "execution_count": 190,
   "metadata": {},
   "outputs": [
    {
     "data": {
      "text/plain": [
       "{'One': 1, 'Two': 2, 'Three': 3}"
      ]
     },
     "execution_count": 190,
     "metadata": {},
     "output_type": "execute_result"
    }
   ],
   "source": [
    "def get_dict(keys: list, values: list) -> dict:\n",
    "    return{keys[i]: values[i] for i in range(len(values))}\n",
    "\n",
    "get_dict(keys, values)"
   ]
  },
  {
   "attachments": {},
   "cell_type": "markdown",
   "metadata": {},
   "source": [
    "## 3 задача"
   ]
  },
  {
   "attachments": {},
   "cell_type": "markdown",
   "metadata": {},
   "source": [
    "### 3.1 Напишите функцию с циклом for\n",
    "Функция на вход принимает:\n",
    "- исходный словарь\n",
    "- ключи, которые нужно извлечь (аргумент по умолчанию)\n",
    "На выходе словарь с нужными ключами\n",
    "Используйте аннотирование типов"
   ]
  },
  {
   "cell_type": "code",
   "execution_count": 191,
   "metadata": {},
   "outputs": [],
   "source": [
    "client_dict = {\n",
    "    \"name\": \"jonh\",\n",
    "    \"age\": 25,\n",
    "    \"salary\": 5000,\n",
    "    \"city\": \"Moscow\"\n",
    "}\n",
    "keys = ['name', 'age']"
   ]
  },
  {
   "cell_type": "code",
   "execution_count": 192,
   "metadata": {},
   "outputs": [
    {
     "data": {
      "text/plain": [
       "{'name': 'jonh', 'age': 25}"
      ]
     },
     "execution_count": 192,
     "metadata": {},
     "output_type": "execute_result"
    }
   ],
   "source": [
    "def get_keys_from_dict(base_dict: dict, keys: list) -> dict: \n",
    "    res = {}\n",
    "    for i in keys:\n",
    "        res.update({i: base_dict[i]})\n",
    "    return res\n",
    "\n",
    "get_keys_from_dict(client_dict, keys)"
   ]
  },
  {
   "attachments": {},
   "cell_type": "markdown",
   "metadata": {},
   "source": [
    "Можно так же записать если ключи известны заранее и их не нужно передовать\n",
    "```\n",
    "def get_keys_from_dict(base_dict: dict, keys: list=['name', 'age']) -> dict: \n",
    "    res = {}\n",
    "    for i in keys:\n",
    "        res.update({i: base_dict[i]})\n",
    "    return res\n",
    "\n",
    "get_keys_from_dict(client_dict)\n",
    "```"
   ]
  },
  {
   "attachments": {},
   "cell_type": "markdown",
   "metadata": {},
   "source": [
    "### 3.2 Используя dict comprehensions"
   ]
  },
  {
   "cell_type": "code",
   "execution_count": 193,
   "metadata": {},
   "outputs": [
    {
     "data": {
      "text/plain": [
       "{'name': 'jonh', 'age': 25}"
      ]
     },
     "execution_count": 193,
     "metadata": {},
     "output_type": "execute_result"
    }
   ],
   "source": [
    "def get_keys_from_dict(base_dict: dict, keys: list) -> dict: \n",
    "    return {i: base_dict[i] for i in keys}\n",
    "\n",
    "get_keys_from_dict(client_dict, keys)"
   ]
  },
  {
   "attachments": {},
   "cell_type": "markdown",
   "metadata": {},
   "source": [
    "Аналог без использования функции\n",
    "```\n",
    "new_dict = {i: base_dict[i] for i in keys}\n",
    "new_dict\n",
    "```"
   ]
  },
  {
   "attachments": {},
   "cell_type": "markdown",
   "metadata": {},
   "source": [
    "### 5.1 Найдите картинку в интернете и прикрепите её в ячейку с текстом"
   ]
  },
  {
   "attachments": {},
   "cell_type": "markdown",
   "metadata": {},
   "source": [
    "<img src=https://hips.hearstapps.com/hmg-prod/images/bojnice-castle-1603142898.jpg>"
   ]
  },
  {
   "attachments": {},
   "cell_type": "markdown",
   "metadata": {},
   "source": [
    "### 5.2 Создайте следующую таблицу в ячейке с текстом"
   ]
  },
  {
   "attachments": {},
   "cell_type": "markdown",
   "metadata": {},
   "source": [
    "<img src='https://cdn.playcaliber.com/site/media/news/2021/06/01/4-%D0%A2%D0%B0%D0%B1%D0%BB%D0%B8%D1%86%D0%B0-%D0%BC%D0%B0%D0%BB%D0%B5%D0%BD%D1%8C%D0%BA%D0%B0%D1%8F-%D0%BF%D0%BE-%D1%80%D0%B5%D0%B6%D0%B8%D0%BC%D0%B0%D0%BC-1280%D1%85853.jpg' width=500>"
   ]
  },
  {
   "attachments": {},
   "cell_type": "markdown",
   "metadata": {},
   "source": [
    "<table>\n",
    "    <tr>\n",
    "        <td> </td>\n",
    "        <td>До события</td>\n",
    "        <td>Во время события</td>\n",
    "    </tr>\n",
    "    <tr>\n",
    "        <td>1 Контрольная точка</td>\n",
    "        <td>250</td>\n",
    "        <td>500</td>\n",
    "    </tr>\n",
    "    <tr>\n",
    "        <td>2 Контрольная точка</td>\n",
    "        <td>350</td>\n",
    "        <td>700</td>\n",
    "    </tr>\n",
    "    <tr>\n",
    "        <td>3 Контрольная точка</td>\n",
    "        <td>400</td>\n",
    "        <td>800</td>\n",
    "    </tr>\n",
    "    <tr>\n",
    "        <td>Итого за победу</td>\n",
    "        <td>1000</td>\n",
    "        <td>2000</td>\n",
    "    </tr>\n",
    "</table>"
   ]
  },
  {
   "attachments": {},
   "cell_type": "markdown",
   "metadata": {},
   "source": [
    "## 6 задача"
   ]
  },
  {
   "attachments": {},
   "cell_type": "markdown",
   "metadata": {},
   "source": [
    "Напишите функцию, которая может принимать любое количество трат пользователя и считать сумму и среднее.\n",
    "- На вход поступают целочисленные значения в любом количестве\n",
    "- На выходе словарь с ключами суммы трат и средней траты"
   ]
  },
  {
   "cell_type": "code",
   "execution_count": 194,
   "metadata": {},
   "outputs": [
    {
     "data": {
      "text/plain": [
       "{'sum': 36, 'avg': 4.5}"
      ]
     },
     "execution_count": 194,
     "metadata": {},
     "output_type": "execute_result"
    }
   ],
   "source": [
    "def cacl_purchases(*args):\n",
    "    sum_purch = sum(args)\n",
    "    n_purch =len(args)\n",
    "    return{\n",
    "        'sum': sum_purch,\n",
    "        'avg': sum_purch / n_purch\n",
    "    }\n",
    "\n",
    "cacl_purchases(1, 2, 3, 4, 5, 6, 7, 8)"
   ]
  },
  {
   "attachments": {},
   "cell_type": "markdown",
   "metadata": {},
   "source": [
    "## 4 задача"
   ]
  },
  {
   "attachments": {},
   "cell_type": "markdown",
   "metadata": {},
   "source": [
    "### 4.1 Сгенерируйте случайные целые числа от 0 до 100 в количестве 5 штук с помощью модуля random\n",
    "- Зафиксируйте псевдогенерацию, чтобы сгенерированные значения всегда были одинаковые\n",
    "- Используйте list comprehensions"
   ]
  },
  {
   "cell_type": "code",
   "execution_count": 195,
   "metadata": {},
   "outputs": [
    {
     "data": {
      "text/plain": [
       "[17, 72, 97, 8, 32]"
      ]
     },
     "execution_count": 195,
     "metadata": {},
     "output_type": "execute_result"
    }
   ],
   "source": [
    "import random\n",
    "random.seed(1)\n",
    "\n",
    "num = [random.randint(0,100) for i in range(5)]\n",
    "num"
   ]
  },
  {
   "attachments": {},
   "cell_type": "markdown",
   "metadata": {},
   "source": [
    "### 4.2* Напишите генератор\n",
    "- Генератор на вход принимает список с данными о клиенте (данные из пункта 4.1)\n",
    "- Внутри генератора реализуйте обход по списку с данными\n",
    "\n",
    "На каждой итерации генератор будет возвращать кортеж из двух элементов:\n",
    "\n",
    "1. данные по клиенту (в зависимости от итерации, на 0 итерации вернется 0 элемент, на 1 итерации вернется 1 элемент и тд)\n",
    "2. целочисленное значение, которое показывает, сколько секунд прошло с предыдущей итерации\n",
    "\n",
    "Примечание: секунды, которые возвращаются должны показывать время не с начала запуска генератора, а именно то время, которое прошло с предыдущей итерации. А значит время на первой итерации должно равняться 0.\n",
    " \n",
    "- *Используйте функцию time из модуля time для подсчета времени.*\n",
    "- *Чтобы проверить работу таймера, запустите проход по генератору в цикле с time.sleep(2)*"
   ]
  },
  {
   "cell_type": "code",
   "execution_count": 196,
   "metadata": {},
   "outputs": [],
   "source": [
    "import time\n",
    "\n",
    "def elapsed_since(data):\n",
    "    last_time = None\n",
    "\n",
    "    for i in data:\n",
    "        current_time = time.time()\n",
    "\n",
    "        if last_time: \n",
    "            delta = current_time - last_time\n",
    "        else: delta = current_time - current_time\n",
    "\n",
    "        last_time = time.time()\n",
    "        yield (int(delta), i)\n"
   ]
  },
  {
   "cell_type": "code",
   "execution_count": 197,
   "metadata": {},
   "outputs": [
    {
     "name": "stdout",
     "output_type": "stream",
     "text": [
      "(0, 17)\n",
      "(2, 72)\n",
      "(2, 97)\n",
      "(2, 8)\n",
      "(2, 32)\n"
     ]
    }
   ],
   "source": [
    "for i in elapsed_since(num):\n",
    "    print(i)\n",
    "    time.sleep(2)"
   ]
  },
  {
   "cell_type": "code",
   "execution_count": null,
   "metadata": {},
   "outputs": [],
   "source": []
  }
 ],
 "metadata": {
  "kernelspec": {
   "display_name": "Python 3",
   "language": "python",
   "name": "python3"
  },
  "language_info": {
   "codemirror_mode": {
    "name": "ipython",
    "version": 3
   },
   "file_extension": ".py",
   "mimetype": "text/x-python",
   "name": "python",
   "nbconvert_exporter": "python",
   "pygments_lexer": "ipython3",
   "version": "3.10.11"
  },
  "orig_nbformat": 4
 },
 "nbformat": 4,
 "nbformat_minor": 2
}
